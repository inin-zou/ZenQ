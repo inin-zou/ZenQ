{
 "cells": [
  {
   "cell_type": "code",
   "execution_count": 1,
   "id": "initial_id",
   "metadata": {
    "collapsed": true,
    "ExecuteTime": {
     "end_time": "2024-12-31T16:12:49.837707Z",
     "start_time": "2024-12-31T16:12:47.046367Z"
    }
   },
   "outputs": [
    {
     "data": {
      "text/plain": "<drawsvg.drawing.Drawing at 0x15357b9d0>",
      "image/svg+xml": "<?xml version=\"1.0\" encoding=\"UTF-8\"?>\n<svg xmlns=\"http://www.w3.org/2000/svg\" xmlns:xlink=\"http://www.w3.org/1999/xlink\"\n     width=\"445.0\" height=\"218.75\" viewBox=\"-28.0 0 356.0 175.0\">\n<defs>\n</defs>\n<path d=\"M10,25.0 L25,25.0\" stroke-width=\"3\" stroke=\"darkred\" stroke-linejoin=\"miter\" fill=\"none\" />\n<path d=\"M10,75.0 L25,75.0\" stroke-width=\"3\" stroke=\"darkred\" stroke-linejoin=\"miter\" fill=\"none\" />\n<path d=\"M10,125.0 L25,125.0\" stroke-width=\"3\" stroke=\"darkred\" stroke-linejoin=\"miter\" fill=\"none\" />\n<path d=\"M25,25 L53,25 L72,44\" stroke=\"darkred\" stroke-width=\"3\" fill=\"none\" />\n<path d=\"M78,44 L97,25 L125,25\" stroke=\"darkred\" stroke-width=\"3\" fill=\"none\" />\n<path d=\"M25,75 L53,75 L72,56\" stroke=\"darkred\" stroke-width=\"3\" fill=\"none\" />\n<path d=\"M78,56 L97,75 L125,75\" stroke=\"darkred\" stroke-width=\"3\" fill=\"none\" />\n<path d=\"M50,43 L100,43 L100,57 L50,57 Z\" stroke=\"black\" fill=\"black\" stroke-linejoin=\"miter\" />\n<text x=\"75\" y=\"85\" font-size=\"7\" text-anchor=\"middle\"></text>\n<text x=\"75\" y=\"26\" font-size=\"7\" text-anchor=\"middle\"></text>\n<path d=\"M50,43 L100,43 L100,47 L50,47 Z\" stroke=\"black\" fill=\"lightgray\" stroke-linejoin=\"miter\" />\n<path d=\"M93,50 L103,50 L103,60 L93,60 Z\" stroke=\"black\" fill=\"thistle\" stroke-linejoin=\"miter\" />\n<text x=\"98\" y=\"57\" font-size=\"6\" text-anchor=\"middle\">Rx</text>\n<path d=\"M125,75 L175,75\" stroke=\"darkred\" stroke-width=\"3\" fill=\"none\" />\n<path d=\"M130,90 L139,90 L153,60 L144,60 L130,90 L139,90 Z\" stroke=\"black\" fill=\"gray\" stroke-linejoin=\"miter\" />\n<text x=\"147\" y=\"88\" font-size=\"7\" text-anchor=\"start\">Φ=pi/2</text>\n<path d=\"M125,25.0 L175,25.0\" stroke=\"darkred\" stroke-width=\"3\" fill=\"none\" />\n<path d=\"M175,25 L203,25 L222,44\" stroke=\"darkred\" stroke-width=\"3\" fill=\"none\" />\n<path d=\"M228,44 L247,25 L275,25\" stroke=\"darkred\" stroke-width=\"3\" fill=\"none\" />\n<path d=\"M175,75 L203,75 L222,56\" stroke=\"darkred\" stroke-width=\"3\" fill=\"none\" />\n<path d=\"M228,56 L247,75 L275,75\" stroke=\"darkred\" stroke-width=\"3\" fill=\"none\" />\n<path d=\"M200,43 L250,43 L250,57 L200,57 Z\" stroke=\"black\" fill=\"black\" stroke-linejoin=\"miter\" />\n<text x=\"225\" y=\"85\" font-size=\"7\" text-anchor=\"middle\"></text>\n<text x=\"225\" y=\"26\" font-size=\"7\" text-anchor=\"middle\"></text>\n<path d=\"M200,43 L250,43 L250,47 L200,47 Z\" stroke=\"black\" fill=\"lightgray\" stroke-linejoin=\"miter\" />\n<path d=\"M243,50 L253,50 L253,60 L243,60 Z\" stroke=\"black\" fill=\"thistle\" stroke-linejoin=\"miter\" />\n<text x=\"248\" y=\"57\" font-size=\"6\" text-anchor=\"middle\">Rx</text>\n<path d=\"M25,125.0 L275,125.0\" stroke=\"darkred\" stroke-width=\"3\" fill=\"none\" />\n<path d=\"M275,25.0 L290,25.0\" stroke-width=\"3\" stroke=\"darkred\" stroke-linejoin=\"miter\" fill=\"none\" />\n<path d=\"M275,75.0 L290,75.0\" stroke-width=\"3\" stroke=\"darkred\" stroke-linejoin=\"miter\" fill=\"none\" />\n<path d=\"M275,125.0 L290,125.0\" stroke-width=\"3\" stroke=\"darkred\" stroke-linejoin=\"miter\" fill=\"none\" />\n<text x=\"300\" y=\"28.0\" font-size=\"6\" text-anchor=\"end\">0</text>\n<text x=\"300\" y=\"78.0\" font-size=\"6\" text-anchor=\"end\">1</text>\n<text x=\"300\" y=\"128.0\" font-size=\"6\" text-anchor=\"end\">2</text>\n<text x=\"0\" y=\"28.0\" font-size=\"6\" text-anchor=\"start\">0</text>\n<text x=\"0\" y=\"78.0\" font-size=\"6\" text-anchor=\"start\">1</text>\n<text x=\"0\" y=\"128.0\" font-size=\"6\" text-anchor=\"start\">2</text>\n</svg>"
     },
     "execution_count": 1,
     "metadata": {},
     "output_type": "execute_result"
    }
   ],
   "source": [
    "from scipy.special import comb\n",
    "from feature_map import feature_map_circuit, feature_map_quantum_state\n",
    "import numpy as np\n",
    "import perceval as pcvl\n",
    "from perceval import BS, PS\n",
    "\n",
    "m = 3\n",
    "n = 1\n",
    "postselect = n\n",
    "samples = 100\n",
    "circuit = pcvl.Circuit(m)  # Create an empty 3 mode circuit\n",
    "circuit.add(0, BS())\n",
    "circuit.add(1, PS(phi=pcvl.P('phi')))\n",
    "circuit.add(0, BS())\n",
    "params=circuit.get_parameters()\n",
    "params[0].set_value(np.pi/2)\n",
    "pcvl.pdisplay(circuit)"
   ]
  },
  {
   "cell_type": "code",
   "execution_count": 3,
   "outputs": [
    {
     "name": "stdout",
     "output_type": "stream",
     "text": [
      "{\n",
      "  |1,0,0>: 0.4999999999999999\n",
      "  |0,1,0>: 0.5000000000000001\n",
      "}\n",
      "tensor([0.5000, 0.5000, 0.0000], dtype=torch.float64)\n"
     ]
    }
   ],
   "source": [
    "proc = pcvl.Processor(\"SLOS\", m)\n",
    "proc.set_circuit(circuit)\n",
    "proc.min_detected_photons_filter(postselect)\n",
    "proc.thresholded_output(True)\n",
    "input_state_list = [1]+[0]+[0]\n",
    "proc.with_input(pcvl.BasicState(input_state_list))\n",
    "sampler = pcvl.algorithm.Sampler(proc, max_shots_per_call=samples)\n",
    "res = sampler.probs(samples)\n",
    "distribution = res[\"results\"]\n",
    "print(distribution)\n",
    "print(feature_map_quantum_state(distribution, (int)(comb(m,n))))"
   ],
   "metadata": {
    "collapsed": false,
    "ExecuteTime": {
     "end_time": "2024-12-31T16:13:11.048096Z",
     "start_time": "2024-12-31T16:13:11.041816Z"
    }
   },
   "id": "711ebd189d65983b"
  }
 ],
 "metadata": {
  "kernelspec": {
   "display_name": "Python 3",
   "language": "python",
   "name": "python3"
  },
  "language_info": {
   "codemirror_mode": {
    "name": "ipython",
    "version": 2
   },
   "file_extension": ".py",
   "mimetype": "text/x-python",
   "name": "python",
   "nbconvert_exporter": "python",
   "pygments_lexer": "ipython2",
   "version": "2.7.6"
  }
 },
 "nbformat": 4,
 "nbformat_minor": 5
}
