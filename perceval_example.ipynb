{
 "cells": [
  {
   "cell_type": "code",
   "execution_count": 95,
   "id": "initial_id",
   "metadata": {
    "collapsed": true,
    "ExecuteTime": {
     "end_time": "2025-01-02T18:21:54.739356Z",
     "start_time": "2025-01-02T18:21:54.723763Z"
    }
   },
   "outputs": [
    {
     "name": "stdout",
     "output_type": "stream",
     "text": [
      "{\n",
      "  |1,1,0,0,0>: 0.005543282795469305\n",
      "  |1,0,1,0,0>: 0.04568470151863036\n",
      "  |1,0,0,1,0>: 0.15345710208738417\n",
      "  |1,0,0,0,1>: 0.653903647452913\n",
      "  |0,1,1,0,0>: 0.00018919430224066013\n",
      "  |0,1,0,1,0>: 0.0011432688408965187\n",
      "  |0,1,0,0,1>: 0.00013444784208874321\n",
      "  |0,0,1,1,0>: 0.0011286471067904137\n",
      "  |0,0,1,0,1>: 0.03064610702405112\n",
      "  |0,0,0,1,1>: 0.10816960102953567\n",
      "}\n"
     ]
    },
    {
     "data": {
      "text/plain": "tensor([6.5390e-01, 1.3445e-04, 3.0646e-02, 1.0817e-01, 0.0000e+00, 0.0000e+00,\n        0.0000e+00, 0.0000e+00, 0.0000e+00, 0.0000e+00], dtype=torch.float64)"
     },
     "execution_count": 95,
     "metadata": {},
     "output_type": "execute_result"
    }
   ],
   "source": [
    "from torch import nn\n",
    "import torch\n",
    "from scipy.special import comb\n",
    "from feature_map import feature_map_circuit, feature_map_quantum_state\n",
    "import numpy as np\n",
    "import perceval as pcvl\n",
    "from perceval import BS, PS, PERM\n",
    "\n",
    "\n",
    "def generate_perceval_circuit(m, list_gates, parameters):\n",
    "    \"\"\"\n",
    "    \n",
    "    :param m: \n",
    "    :param list_gates: list of (i,j), assume j > i\n",
    "    :param parameters: \n",
    "    :return: \n",
    "    \"\"\"\n",
    "    circuit = pcvl.Circuit(m)  # Create an empty 3 mode circuit\n",
    "    para_index = 0\n",
    "    for (i,j) in list_gates:\n",
    "        if i+1 != j:\n",
    "            n = abs(j - i)\n",
    "            permutation = [n-1] + list(range(1, n-1)) + [0]\n",
    "            circuit.add(i+1, PERM(permutation))\n",
    "        circuit.add(i, BS()).add(i+1, PS(phi=pcvl.P('phi_'+str(para_index)))).add(i, BS())\n",
    "        para_index += 1\n",
    "        if i+1 != j:\n",
    "            n = abs(j - i)\n",
    "            permutation = [n-1] + list(range(1, n-1)) + [0]\n",
    "            circuit.add(i+1, PERM(permutation))\n",
    "    \n",
    "    params=circuit.get_parameters()\n",
    "    for index in range(len(parameters)):\n",
    "        params[index].set_value(parameters[index])\n",
    "    return circuit\n",
    "\n",
    "\n",
    "def run_perceval_circuit(input_state_list, circuit, m, n, postselect, samples):\n",
    "    \"\"\"\n",
    "    :param input_state_list: \n",
    "    :param circuit: \n",
    "    :param m: \n",
    "    :param n: \n",
    "    :param postselect: \n",
    "    :param samples: \n",
    "    :return: torch tensor vector\n",
    "    \"\"\"\n",
    "    proc = pcvl.Processor(\"SLOS\", m)\n",
    "    proc.set_circuit(circuit)\n",
    "    proc.min_detected_photons_filter(postselect)\n",
    "    proc.thresholded_output(True)\n",
    "    proc.with_input(pcvl.BasicState(input_state_list))\n",
    "    sampler = pcvl.algorithm.Sampler(proc, max_shots_per_call=samples)\n",
    "    res = sampler.probs(samples)\n",
    "    distribution = res[\"results\"]\n",
    "    return feature_map_quantum_state(distribution, (int)(comb(m,n)))\n",
    "\n",
    "\n",
    "m = 5\n",
    "n = 2\n",
    "postselect = n\n",
    "samples = 100\n",
    "list_gates = [(0,2),(1,3),(0,1),(2,3),(1,3),(0,1),(2,3),(3,4),(1,3)]\n",
    "device = torch.device(\"cpu\")\n",
    "# parameters = np.random.rand(len(list_gates))\n",
    "parameters = nn.Parameter(torch.rand((len(list_gates),), device=device))\n",
    "circuit = generate_perceval_circuit(m, list_gates, parameters)\n",
    "# pcvl.pdisplay(circuit)\n",
    "input_state_list = [1]*n+[0]*(m-n)\n",
    "run_perceval_circuit(input_state_list, circuit, m, n, postselect, samples)"
   ]
  },
  {
   "cell_type": "code",
   "execution_count": 61,
   "outputs": [
    {
     "data": {
      "text/plain": "<drawsvg.drawing.Drawing at 0x154c03a50>",
      "image/svg+xml": "<?xml version=\"1.0\" encoding=\"UTF-8\"?>\n<svg xmlns=\"http://www.w3.org/2000/svg\" xmlns:xlink=\"http://www.w3.org/1999/xlink\"\n     width=\"195.0\" height=\"343.75\" viewBox=\"-28.0 0 156.0 275.0\">\n<defs>\n</defs>\n<path d=\"M10,25.0 L25,25.0\" stroke-width=\"3\" stroke=\"darkred\" stroke-linejoin=\"miter\" fill=\"none\" />\n<path d=\"M10,75.0 L25,75.0\" stroke-width=\"3\" stroke=\"darkred\" stroke-linejoin=\"miter\" fill=\"none\" />\n<path d=\"M10,125.0 L25,125.0\" stroke-width=\"3\" stroke=\"darkred\" stroke-linejoin=\"miter\" fill=\"none\" />\n<path d=\"M10,175.0 L25,175.0\" stroke-width=\"3\" stroke=\"darkred\" stroke-linejoin=\"miter\" fill=\"none\" />\n<path d=\"M10,225.0 L25,225.0\" stroke-width=\"3\" stroke=\"darkred\" stroke-linejoin=\"miter\" fill=\"none\" />\n<path d=\"M28,75 L72,225\" stroke=\"white\" stroke-width=\"6\" fill=\"none\" />\n<path d=\"M25,75 L28,75 L72,225 L75,225\" stroke=\"darkred\" stroke-width=\"3\" fill=\"none\" />\n<path d=\"M28,125 L72,125\" stroke=\"white\" stroke-width=\"6\" fill=\"none\" />\n<path d=\"M25,125 L28,125 L72,125 L75,125\" stroke=\"darkred\" stroke-width=\"3\" fill=\"none\" />\n<path d=\"M28,175 L72,175\" stroke=\"white\" stroke-width=\"6\" fill=\"none\" />\n<path d=\"M25,175 L28,175 L72,175 L75,175\" stroke=\"darkred\" stroke-width=\"3\" fill=\"none\" />\n<path d=\"M28,225 L72,75\" stroke=\"white\" stroke-width=\"6\" fill=\"none\" />\n<path d=\"M25,225 L28,225 L72,75 L75,75\" stroke=\"darkred\" stroke-width=\"3\" fill=\"none\" />\n<path d=\"M25,25.0 L75,25.0\" stroke=\"darkred\" stroke-width=\"3\" fill=\"none\" />\n<path d=\"M75,25.0 L90,25.0\" stroke-width=\"3\" stroke=\"darkred\" stroke-linejoin=\"miter\" fill=\"none\" />\n<path d=\"M75,75.0 L90,75.0\" stroke-width=\"3\" stroke=\"darkred\" stroke-linejoin=\"miter\" fill=\"none\" />\n<path d=\"M75,125.0 L90,125.0\" stroke-width=\"3\" stroke=\"darkred\" stroke-linejoin=\"miter\" fill=\"none\" />\n<path d=\"M75,175.0 L90,175.0\" stroke-width=\"3\" stroke=\"darkred\" stroke-linejoin=\"miter\" fill=\"none\" />\n<path d=\"M75,225.0 L90,225.0\" stroke-width=\"3\" stroke=\"darkred\" stroke-linejoin=\"miter\" fill=\"none\" />\n<text x=\"100\" y=\"28.0\" font-size=\"6\" text-anchor=\"end\">0</text>\n<text x=\"100\" y=\"78.0\" font-size=\"6\" text-anchor=\"end\">1</text>\n<text x=\"100\" y=\"128.0\" font-size=\"6\" text-anchor=\"end\">2</text>\n<text x=\"100\" y=\"178.0\" font-size=\"6\" text-anchor=\"end\">3</text>\n<text x=\"100\" y=\"228.0\" font-size=\"6\" text-anchor=\"end\">4</text>\n<text x=\"0\" y=\"28.0\" font-size=\"6\" text-anchor=\"start\">0</text>\n<text x=\"0\" y=\"78.0\" font-size=\"6\" text-anchor=\"start\">1</text>\n<text x=\"0\" y=\"128.0\" font-size=\"6\" text-anchor=\"start\">2</text>\n<text x=\"0\" y=\"178.0\" font-size=\"6\" text-anchor=\"start\">3</text>\n<text x=\"0\" y=\"228.0\" font-size=\"6\" text-anchor=\"start\">4</text>\n</svg>"
     },
     "execution_count": 61,
     "metadata": {},
     "output_type": "execute_result"
    }
   ],
   "source": [
    "m = 5\n",
    "circuit = pcvl.Circuit(m)\n",
    "circuit.add(1, PERM([3, 1, 2, 0]))\n",
    "pcvl.pdisplay(circuit)"
   ],
   "metadata": {
    "collapsed": false,
    "ExecuteTime": {
     "end_time": "2025-01-02T18:09:07.896890Z",
     "start_time": "2025-01-02T18:09:07.888576Z"
    }
   },
   "id": "bd73708c21abd4b3"
  },
  {
   "cell_type": "code",
   "execution_count": 65,
   "outputs": [
    {
     "data": {
      "text/plain": "[3, 1, 2, 0]"
     },
     "execution_count": 65,
     "metadata": {},
     "output_type": "execute_result"
    }
   ],
   "source": [
    "def run_perceval_circuit(input_state_list, circuit, m, n, postselect, samples):\n",
    "    \"\"\"\n",
    "    :param input_state_list: \n",
    "    :param circuit: \n",
    "    :param m: \n",
    "    :param n: \n",
    "    :param postselect: \n",
    "    :param samples: \n",
    "    :return: torch tensor vector\n",
    "    \"\"\"\n",
    "    proc = pcvl.Processor(\"SLOS\", m)\n",
    "    proc.set_circuit(circuit)\n",
    "    proc.min_detected_photons_filter(postselect)\n",
    "    proc.thresholded_output(True)\n",
    "    proc.with_input(pcvl.BasicState(input_state_list))\n",
    "    sampler = pcvl.algorithm.Sampler(proc, max_shots_per_call=samples)\n",
    "    res = sampler.probs(samples)\n",
    "    distribution = res[\"results\"]\n",
    "    return feature_map_quantum_state(distribution, (int)(comb(m,n)))"
   ],
   "metadata": {
    "collapsed": false,
    "ExecuteTime": {
     "end_time": "2025-01-02T18:13:09.347346Z",
     "start_time": "2025-01-02T18:13:09.340396Z"
    }
   },
   "id": "c02aff475f900d7e"
  },
  {
   "cell_type": "code",
   "execution_count": 52,
   "outputs": [],
   "source": [],
   "metadata": {
    "collapsed": false,
    "ExecuteTime": {
     "end_time": "2025-01-02T18:02:20.246178Z",
     "start_time": "2025-01-02T18:02:20.244098Z"
    }
   },
   "id": "711ebd189d65983b"
  }
 ],
 "metadata": {
  "kernelspec": {
   "display_name": "Python 3",
   "language": "python",
   "name": "python3"
  },
  "language_info": {
   "codemirror_mode": {
    "name": "ipython",
    "version": 2
   },
   "file_extension": ".py",
   "mimetype": "text/x-python",
   "name": "python",
   "nbconvert_exporter": "python",
   "pygments_lexer": "ipython2",
   "version": "2.7.6"
  }
 },
 "nbformat": 4,
 "nbformat_minor": 5
}
