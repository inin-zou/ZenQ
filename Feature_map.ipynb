{
 "cells": [
  {
   "cell_type": "code",
   "execution_count": 2,
   "id": "initial_id",
   "metadata": {
    "collapsed": true,
    "ExecuteTime": {
     "end_time": "2024-12-23T17:56:53.733681Z",
     "start_time": "2024-12-23T17:56:53.729342Z"
    }
   },
   "outputs": [],
   "source": [
    "import perceval as pcvl\n",
    "import torch\n",
    "from torch.utils.data import DataLoader\n",
    "from tqdm import tqdm\n",
    "from utils import MNIST_partial, accuracy, plot_training_metrics\n",
    "import matplotlib.pyplot as plt\n",
    "from feature_map import simulate_quantum_image"
   ]
  },
  {
   "cell_type": "markdown",
   "source": [
    "# Feature map: from classic to quantum\n",
    "you can consider the feature map as a quantum data loader, it convert the classic image to quantum state so that we can implement our quantum components."
   ],
   "metadata": {
    "collapsed": false
   },
   "id": "ec4975a1066c3dd9"
  },
  {
   "cell_type": "markdown",
   "source": [
    "# Problem: an example of the image data we can use for quantum "
   ],
   "metadata": {
    "collapsed": false
   },
   "id": "5872f7507160c3fb"
  },
  {
   "cell_type": "code",
   "execution_count": 3,
   "outputs": [
    {
     "name": "stderr",
     "output_type": "stream",
     "text": [
      "  0%|          | 0/6000 [00:00<?, ?it/s]"
     ]
    },
    {
     "data": {
      "text/plain": "<Figure size 640x480 with 1 Axes>",
      "image/png": "[encoded data removed]"
     },
     "metadata": {},
     "output_type": "display_data"
    },
    {
     "name": "stderr",
     "output_type": "stream",
     "text": [
      "  0%|          | 0/6000 [00:01<?, ?it/s]"
     ]
    },
    {
     "name": "stdout",
     "output_type": "stream",
     "text": [
      "tensor([0])\n"
     ]
    },
    {
     "name": "stderr",
     "output_type": "stream",
     "text": [
      "\n"
     ]
    }
   ],
   "source": [
    "# dataset from csv file, to use for the challenge\n",
    "train_dataset = MNIST_partial(split = 'train')\n",
    "val_dataset = MNIST_partial(split='val')\n",
    "\n",
    "# definition of the dataloader, to process the data in the model\n",
    "# here, we need a batch size of 1 to use the boson sampler\n",
    "batch_size = 1\n",
    "reduced_size = 16\n",
    "samples = 1000\n",
    "postselect = 1\n",
    "device = 'cuda:0' if torch.cuda.is_available() else 'cpu'\n",
    "train_loader = DataLoader(train_dataset, batch_size, shuffle = True)\n",
    "val_loader = DataLoader(val_dataset, batch_size, shuffle = False)\n",
    "\n",
    "for step, batch in enumerate(tqdm(train_loader)):\n",
    "    images, labs = batch\n",
    "    image = simulate_quantum_image(images, reduced_size, samples, postselect, device)\n",
    "    plt.imshow(image.squeeze())\n",
    "    plt.show()\n",
    "    print(labs)\n",
    "    break"
   ],
   "metadata": {
    "collapsed": false,
    "ExecuteTime": {
     "end_time": "2024-12-23T17:56:56.413331Z",
     "start_time": "2024-12-23T17:56:54.580735Z"
    }
   },
   "id": "1af6e56245c1b149"
  },
  {
   "cell_type": "markdown",
   "source": [
    "## The problem is mainly in the method tensor_decomposition()\n",
    "We want the relative rank of elements become stable. That means For i,j,k,l in [0,N], if the element C_ij is larger than the element C_kl in the classic image, then the the element C_ij should also larger than the element C_kl should in the quantum image.\n",
    "\n",
    "You can observe the evaluate_rank_consistency() method above, the result is not very well, we want to minimize the value."
   ],
   "metadata": {
    "collapsed": false
   },
   "id": "a7f375358cd035"
  },
  {
   "cell_type": "code",
   "execution_count": 37,
   "outputs": [
    {
     "name": "stderr",
     "output_type": "stream",
     "text": [
      "  0%|          | 0/6000 [00:02<?, ?it/s]"
     ]
    },
    {
     "name": "stdout",
     "output_type": "stream",
     "text": [
      "16331\n"
     ]
    },
    {
     "name": "stderr",
     "output_type": "stream",
     "text": [
      "\n"
     ]
    }
   ],
   "source": [
    "from torch.nn import AdaptiveAvgPool2d\n",
    "\n",
    "def evaluate_rank_consistency(classic_image, quantum_image):\n",
    "    N = classic_image.shape[0]\n",
    "    bad_rank_count = 0\n",
    "    for i in range(N):\n",
    "        for j in range(N):\n",
    "            for k in range(N):\n",
    "                for l in range(N):\n",
    "                    # Check the condition\n",
    "                    if (classic_image[i, j] > classic_image[k, l]) and not (quantum_image[i, j] > quantum_image[k, l]):\n",
    "                        bad_rank_count += 1\n",
    "\n",
    "    return bad_rank_count\n",
    "\n",
    "\n",
    "for step, batch in enumerate(tqdm(train_loader)):\n",
    "    image, labs = batch\n",
    "    image = image.squeeze()[2:-2, 2:-2].unsqueeze(0)\n",
    "    adaptive_avg_pool = AdaptiveAvgPool2d((reduced_size, reduced_size))\n",
    "    image = adaptive_avg_pool(image).to(device).squeeze()\n",
    "    quantum_image = simulate_quantum_image(image, reduced_size, samples, postselect, device)\n",
    "    print(evaluate_rank_consistency(quantum_image, image.squeeze()))\n",
    "    break"
   ],
   "metadata": {
    "collapsed": false,
    "ExecuteTime": {
     "end_time": "2024-12-23T18:19:47.449178Z",
     "start_time": "2024-12-23T18:19:45.394063Z"
    }
   },
   "id": "fcf2a188675e0b3a"
  }
 ],
 "metadata": {
  "kernelspec": {
   "display_name": "Python 3",
   "language": "python",
   "name": "python3"
  },
  "language_info": {
   "codemirror_mode": {
    "name": "ipython",
    "version": 2
   },
   "file_extension": ".py",
   "mimetype": "text/x-python",
   "name": "python",
   "nbconvert_exporter": "python",
   "pygments_lexer": "ipython2",
   "version": "2.7.6"
  }
 },
 "nbformat": 4,
 "nbformat_minor": 5
}
